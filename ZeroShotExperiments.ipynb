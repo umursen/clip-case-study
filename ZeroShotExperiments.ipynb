{
 "cells": [
  {
   "cell_type": "code",
   "execution_count": 1,
   "id": "95c15aee",
   "metadata": {},
   "outputs": [],
   "source": [
    "%load_ext autoreload\n",
    "%autoreload 2"
   ]
  },
  {
   "cell_type": "code",
   "execution_count": 2,
   "id": "3822604f",
   "metadata": {},
   "outputs": [],
   "source": [
    "import torch\n",
    "import clip\n",
    "from PIL import Image\n",
    "import numpy as np\n",
    "import os\n",
    "import matplotlib.pyplot as plt"
   ]
  },
  {
   "cell_type": "markdown",
   "id": "5b029799",
   "metadata": {},
   "source": [
    "# Zero Shot"
   ]
  },
  {
   "cell_type": "markdown",
   "id": "80860610",
   "metadata": {},
   "source": [
    "In this experiment, we will measure the zero shot accuracy by calculating the similarity between an input encoding and the text encodings of CoCo classes."
   ]
  },
  {
   "cell_type": "markdown",
   "id": "96a4ad25",
   "metadata": {},
   "source": [
    "# Load Model"
   ]
  },
  {
   "cell_type": "code",
   "execution_count": 3,
   "id": "328669d2",
   "metadata": {},
   "outputs": [
    {
     "data": {
      "text/plain": [
       "['RN50', 'RN101', 'RN50x4', 'RN50x16', 'ViT-B/32', 'ViT-B/16']"
      ]
     },
     "execution_count": 3,
     "metadata": {},
     "output_type": "execute_result"
    }
   ],
   "source": [
    "clip.available_models()"
   ]
  },
  {
   "cell_type": "markdown",
   "id": "c496491f",
   "metadata": {},
   "source": [
    "Let's opt for simplicity and start with the smallest ResNet model (50)"
   ]
  },
  {
   "cell_type": "code",
   "execution_count": 4,
   "id": "50c3beb5",
   "metadata": {
    "scrolled": true
   },
   "outputs": [
    {
     "name": "stdout",
     "output_type": "stream",
     "text": [
      "device: cuda\n"
     ]
    }
   ],
   "source": [
    "name = 'RN50'\n",
    "device = \"cuda\" if torch.cuda.is_available() else \"cpu\"\n",
    "print('device:', device)\n",
    "\n",
    "model, transform = clip.load(name, device=device, jit=False)"
   ]
  },
  {
   "cell_type": "code",
   "execution_count": 5,
   "id": "0e3f1a1b",
   "metadata": {},
   "outputs": [
    {
     "data": {
      "text/plain": [
       "Compose(\n",
       "    Resize(size=224, interpolation=PIL.Image.BICUBIC)\n",
       "    CenterCrop(size=(224, 224))\n",
       "    <function _convert_image_to_rgb at 0x7f31b5a3cc10>\n",
       "    ToTensor()\n",
       "    Normalize(mean=(0.48145466, 0.4578275, 0.40821073), std=(0.26862954, 0.26130258, 0.27577711))\n",
       ")"
      ]
     },
     "execution_count": 5,
     "metadata": {},
     "output_type": "execute_result"
    }
   ],
   "source": [
    "transform"
   ]
  },
  {
   "cell_type": "markdown",
   "id": "a9147b0b",
   "metadata": {},
   "source": [
    "# Load Data"
   ]
  },
  {
   "cell_type": "markdown",
   "id": "bd25dda5",
   "metadata": {},
   "source": [
    "## DataLoaders"
   ]
  },
  {
   "cell_type": "code",
   "execution_count": 6,
   "id": "861965e2",
   "metadata": {},
   "outputs": [],
   "source": [
    "coco_labels = []\n",
    "\n",
    "with open('coco_labels.txt') as f:\n",
    "    lines = f.readlines()\n",
    "    for line in lines:\n",
    "        line.replace('\\n', '')\n",
    "        coco_labels.append(line.replace('\\n', ''))"
   ]
  },
  {
   "cell_type": "code",
   "execution_count": 7,
   "id": "f5787578",
   "metadata": {},
   "outputs": [],
   "source": [
    "from dataset import CocoCaseStudyDataset\n",
    "from torch.utils.data import DataLoader\n",
    "from torchvision import transforms\n",
    "from torchvision.datasets import CIFAR100\n",
    "\n",
    "np.random.seed(0)\n",
    "\n",
    "test_dataset = CocoCaseStudyDataset(split='test', experiment_type='zero', transform=transform)\n",
    "test_dataloader = DataLoader(test_dataset, batch_size=32, shuffle=True)\n",
    "\n",
    "text_inputs = torch.cat([clip.tokenize(f\"a photo of a {c}\") for c in coco_labels]).to(device)"
   ]
  },
  {
   "cell_type": "code",
   "execution_count": 8,
   "id": "99812af6",
   "metadata": {},
   "outputs": [
    {
     "data": {
      "text/plain": [
       "['bench']"
      ]
     },
     "execution_count": 8,
     "metadata": {},
     "output_type": "execute_result"
    }
   ],
   "source": [
    "test_dataset.get_class_names()"
   ]
  },
  {
   "cell_type": "code",
   "execution_count": 9,
   "id": "d12e8d55",
   "metadata": {},
   "outputs": [
    {
     "data": {
      "text/plain": [
       "13"
      ]
     },
     "execution_count": 9,
     "metadata": {},
     "output_type": "execute_result"
    }
   ],
   "source": [
    "cls_index = coco_labels.index(test_dataset.get_class_names()[0])\n",
    "cls_index"
   ]
  },
  {
   "cell_type": "markdown",
   "id": "388d35fc",
   "metadata": {},
   "source": [
    "# Test"
   ]
  },
  {
   "cell_type": "code",
   "execution_count": 10,
   "id": "add83c7d",
   "metadata": {},
   "outputs": [],
   "source": [
    "top1_predictions = []\n",
    "top5_predictions = []\n",
    "top10_predictions = []\n",
    "\n",
    "for batch_ndx, (image, cls) in enumerate(test_dataloader):\n",
    "    image = image.to('cuda')\n",
    "    with torch.no_grad():\n",
    "        image_features = model.encode_image(image)\n",
    "        text_features = model.encode_text(text_inputs)\n",
    "        \n",
    "    # Pick the top 5 most similar labels for the image\n",
    "    image_features /= image_features.norm(dim=-1, keepdim=True)\n",
    "    text_features /= text_features.norm(dim=-1, keepdim=True)\n",
    "    similarity = (100.0 * image_features @ text_features.T).softmax(dim=-1)\n",
    "\n",
    "    top1_predictions.append(similarity.topk(1)[1].detach().cpu().numpy())\n",
    "    top5_predictions.append(similarity.topk(5)[1].detach().cpu().numpy())\n",
    "    top10_predictions.append(similarity.topk(10)[1].detach().cpu().numpy())\n",
    "\n",
    "top1_predictions = np.concatenate(top1_predictions, axis=0)\n",
    "top5_predictions = np.concatenate(top5_predictions, axis=0)\n",
    "top10_predictions = np.concatenate(top10_predictions, axis=0)\n"
   ]
  },
  {
   "cell_type": "code",
   "execution_count": 11,
   "id": "c8159a5e",
   "metadata": {},
   "outputs": [
    {
     "data": {
      "text/plain": [
       "(0.7631578947368421, 0.9736842105263158, 1.0)"
      ]
     },
     "execution_count": 11,
     "metadata": {},
     "output_type": "execute_result"
    }
   ],
   "source": [
    "top1_acc = np.sum(top1_predictions==cls_index)/len(top1_predictions)\n",
    "top5_acc = np.sum(top5_predictions==cls_index)/len(top1_predictions)\n",
    "top10_acc = np.sum(top10_predictions==cls_index)/len(top1_predictions)\n",
    "\n",
    "top1_acc, top5_acc, top10_acc"
   ]
  },
  {
   "cell_type": "markdown",
   "id": "8e6d6652",
   "metadata": {},
   "source": [
    "### Accuracy"
   ]
  },
  {
   "cell_type": "markdown",
   "id": "6faf4879",
   "metadata": {},
   "source": [
    "Since bench is an object that is included in the contrastive pretraining, we can achieve 0.76 accuracy in top-1 accuracy. If the object wasn't included in the contrastive pretraining, we would have smaller similarity results. In order to understand the difference, we can set a threshold to the similarity."
   ]
  },
  {
   "cell_type": "code",
   "execution_count": 12,
   "id": "f6d5f3f0",
   "metadata": {},
   "outputs": [
    {
     "data": {
      "image/png": "[encoded data removed]",
      "text/plain": [
       "<Figure size 864x504 with 1 Axes>"
      ]
     },
     "metadata": {
      "needs_background": "light"
     },
     "output_type": "display_data"
    }
   ],
   "source": [
    "fig, ax = plt.subplots(figsize=(12,7))\n",
    "\n",
    "ax.bar(['top-1', 'top-5', 'top-10'],[top1_acc, top5_acc, top10_acc])\n",
    "# ax.set_ylim([0.6, 1])\n",
    "# ax.set_title('Accuracies',fontsize=20)\n",
    "\n",
    "plt.xticks(fontsize=14)\n",
    "plt.grid(axis='y', linestyle='-',alpha=0.5,color='#999999')\n",
    "plt.yticks(fontsize=14)\n",
    "plt.ylabel('Accuracy',fontsize=20)\n",
    "plt.show()"
   ]
  }
 ],
 "metadata": {
  "kernelspec": {
   "display_name": "cs",
   "language": "python",
   "name": "cs"
  },
  "language_info": {
   "codemirror_mode": {
    "name": "ipython",
    "version": 3
   },
   "file_extension": ".py",
   "mimetype": "text/x-python",
   "name": "python",
   "nbconvert_exporter": "python",
   "pygments_lexer": "ipython3",
   "version": "3.8.0"
  }
 },
 "nbformat": 4,
 "nbformat_minor": 5
}
